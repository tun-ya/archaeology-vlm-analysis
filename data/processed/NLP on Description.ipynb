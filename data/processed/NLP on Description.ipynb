{
 "cells": [
  {
   "cell_type": "code",
   "execution_count": 18,
   "id": "5e36c342",
   "metadata": {},
   "outputs": [
    {
     "name": "stdout",
     "output_type": "stream",
     "text": [
      "  Object Number                                        Description  \\\n",
      "0         10005           Showing artificial and natural fracture.   \n",
      "3         10115  The fragment of pottery is unusually thick, an...   \n",
      "4         10121                                         Spade like   \n",
      "5         10126                                               Thin   \n",
      "6         10230                                              Split   \n",
      "\n",
      "  Culture Area d Culture d Date Made d Iconography d Materials d Period d  \\\n",
      "0           None      None        None          None        None     None   \n",
      "3           None      None        None          None        None     None   \n",
      "4           None      None        None          None        None     None   \n",
      "5           None      None        None          None        None     None   \n",
      "6           None      None        None          None        None     None   \n",
      "\n",
      "  Provenience d Technique d  \n",
      "0          None        None  \n",
      "3     Tennessee        None  \n",
      "4          None        None  \n",
      "5          None        None  \n",
      "6          None        None  \n"
     ]
    }
   ],
   "source": [
    "import pandas as pd\n",
    "import spacy\n",
    "\n",
    "# Load the spaCy model\n",
    "nlp = spacy.load('en_core_web_sm')\n",
    "\n",
    "# Load your dataset (replace 'final_scraped_data.csv' with your actual file)\n",
    "df = pd.read_csv(\"final_scraped_data.csv\")\n",
    "\n",
    "# Keep the 'Object Number' column as well\n",
    "df = df[['Object Number', 'Description']]\n",
    "\n",
    "# Convert the 'Description' column to strings (handle NaN values as 'nan')\n",
    "df['Description'] = df['Description'].astype(str)\n",
    "\n",
    "# Remove rows where 'Description' column is null (NaN or None)\n",
    "df = df[df['Description'] != 'nan']\n",
    "\n",
    "# df = df.head(1000)\n",
    "\n",
    "# Function to extract relevant entities from the description\n",
    "def extract_entities(description):\n",
    "    # Process the description with spaCy\n",
    "    doc = nlp(description)\n",
    "    \n",
    "    # Initialize a dictionary to store extracted entities (set to None if not found)\n",
    "    entities = {\n",
    "        'Culture Area d': None,\n",
    "        'Culture d': None,\n",
    "        'Date Made d': None,\n",
    "        'Iconography d': None,\n",
    "        'Materials d': None,\n",
    "        'Period d': None,\n",
    "        'Provenience d': None,\n",
    "        'Technique d': None\n",
    "    }\n",
    "    \n",
    "    # Extract entities\n",
    "    for ent in doc.ents:\n",
    "        if ent.label_ == 'MATERIAL':  # Materials\n",
    "            entities['Materials d'] = ent.text\n",
    "        elif ent.label_ == 'CULTURE':  # Culture\n",
    "            entities['Culture d'] = ent.text\n",
    "        elif ent.label_ == 'DATE' or ent.label_ == 'CARDINAL':  # Date Made / Period\n",
    "            entities['Date Made d'] = ent.text\n",
    "        elif ent.label_ == 'ORG':  # Iconography (assuming some organization references)\n",
    "            entities['Iconography d'] = ent.text\n",
    "        elif ent.label_ == 'GPE':  # Provenience (Geopolitical locations)\n",
    "            entities['Provenience d'] = ent.text\n",
    "        elif ent.label_ == 'TIME':  # Period (time reference)\n",
    "            entities['Period d'] = ent.text\n",
    "        # Optionally, you can extend other conditions as needed, e.g., for 'Technique'\n",
    "    \n",
    "    return entities\n",
    "\n",
    "# Apply the function to the 'Description' column\n",
    "df['Entities'] = df['Description'].apply(extract_entities)\n",
    "\n",
    "# Expand the 'Entities' dictionary into separate columns\n",
    "for col in df['Entities'][0].keys():\n",
    "    df[col] = df['Entities'].apply(lambda x: x[col])\n",
    "\n",
    "# Optionally drop the 'Entities' column as it is now expanded\n",
    "df.drop(columns=['Entities'], inplace=True)\n",
    "\n",
    "# Display the updated DataFrame for the first 5 rows\n",
    "print(df.head(5))  # Display first 5 rows\n",
    "\n",
    "# Save the updated DataFrame to a new CSV file\n",
    "df.to_csv(\"processed_data_with_object_numbers.csv\", index=False)"
   ]
  },
  {
   "cell_type": "code",
   "execution_count": 9,
   "id": "e7e7492d",
   "metadata": {},
   "outputs": [
    {
     "name": "stdout",
     "output_type": "stream",
     "text": [
      "Object Number         0\n",
      "Description           0\n",
      "Culture Area d    21212\n",
      "Culture d         21212\n",
      "Date Made d       13028\n",
      "Iconography d     15502\n",
      "Materials d       21212\n",
      "Period d          21189\n",
      "Provenience d     18137\n",
      "Technique d       21212\n",
      "dtype: int64\n"
     ]
    }
   ],
   "source": [
    "null_values = df.isna().sum()\n",
    "\n",
    "# Display the number of null values for each column\n",
    "print(null_values)"
   ]
  },
  {
   "cell_type": "code",
   "execution_count": 11,
   "id": "ef710aac",
   "metadata": {},
   "outputs": [],
   "source": [
    "df.drop(columns=['Culture Area d', 'Culture d', 'Materials d', 'Period d', 'Provenience d', 'Technique d'], inplace=True)"
   ]
  },
  {
   "cell_type": "code",
   "execution_count": 12,
   "id": "10d3da7e",
   "metadata": {},
   "outputs": [
    {
     "name": "stdout",
     "output_type": "stream",
     "text": [
      "Object Number        0\n",
      "Description          0\n",
      "Date Made d      13028\n",
      "Iconography d    15502\n",
      "dtype: int64\n"
     ]
    }
   ],
   "source": [
    "null_values = df.isna().sum()\n",
    "\n",
    "# Display the number of null values for each column\n",
    "print(null_values)"
   ]
  },
  {
   "cell_type": "code",
   "execution_count": 13,
   "id": "976c7b85",
   "metadata": {},
   "outputs": [],
   "source": [
    "df2 = pd.read_csv(\"midCleaning.csv\")"
   ]
  },
  {
   "cell_type": "code",
   "execution_count": 14,
   "id": "09fa4cad",
   "metadata": {},
   "outputs": [],
   "source": [
    "df2 = pd.concat([df2, df], axis=1)"
   ]
  },
  {
   "cell_type": "code",
   "execution_count": 15,
   "id": "c86ecac9",
   "metadata": {},
   "outputs": [
    {
     "data": {
      "text/plain": [
       "Index(['Object Number', 'image_path', 'Culture Area', 'Culture', 'Date Made',\n",
       "       'Description', 'Iconography', 'Materials', 'Object Title', 'Period',\n",
       "       'Provenience', 'Section', 'Technique', 'Object Number', 'Description',\n",
       "       'Date Made d', 'Iconography d'],\n",
       "      dtype='object')"
      ]
     },
     "execution_count": 15,
     "metadata": {},
     "output_type": "execute_result"
    }
   ],
   "source": [
    "df2.columns"
   ]
  },
  {
   "cell_type": "code",
   "execution_count": 16,
   "id": "0a8578e8",
   "metadata": {},
   "outputs": [],
   "source": [
    "df2.to_csv(\"added columns with nlp.csv\", index=False)"
   ]
  },
  {
   "cell_type": "code",
   "execution_count": 17,
   "id": "20e9b1dd",
   "metadata": {},
   "outputs": [
    {
     "name": "stdout",
     "output_type": "stream",
     "text": [
      "Number of rows where nothing is null: 6\n"
     ]
    }
   ],
   "source": [
    "# Check if all values in the row are not null in df2\n",
    "non_null_rows = df2.notna().all(axis=1)\n",
    "\n",
    "# Get the rows where nothing is null\n",
    "rows_with_no_nulls = df2[non_null_rows]\n",
    "\n",
    "# Display the number of rows where nothing is null\n",
    "print(f\"Number of rows where nothing is null: {len(rows_with_no_nulls)}\")"
   ]
  }
 ],
 "metadata": {
  "kernelspec": {
   "display_name": "Python (nlp_env)",
   "language": "python",
   "name": "nlp_env"
  },
  "language_info": {
   "codemirror_mode": {
    "name": "ipython",
    "version": 3
   },
   "file_extension": ".py",
   "mimetype": "text/x-python",
   "name": "python",
   "nbconvert_exporter": "python",
   "pygments_lexer": "ipython3",
   "version": "3.9.20"
  }
 },
 "nbformat": 4,
 "nbformat_minor": 5
}
